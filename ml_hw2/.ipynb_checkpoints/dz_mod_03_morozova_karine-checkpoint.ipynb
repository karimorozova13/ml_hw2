{
 "cells": [
  {
   "cell_type": "code",
   "execution_count": 1,
   "id": "d8a3d0eb-5e6d-4642-b9a1-11beecf86f15",
   "metadata": {},
   "outputs": [
    {
     "ename": "FileNotFoundError",
     "evalue": "[Errno 2] No such file or directory: './datasets/mod_03_topic_05_weather_data.csv.gz'",
     "output_type": "error",
     "traceback": [
      "Traceback \u001b[1;36m(most recent call last)\u001b[0m:\n",
      "\u001b[0m  Cell \u001b[0;32mIn[1], line 4\u001b[0m\n    data = pd.read_csv('./datasets/mod_03_topic_05_weather_data.csv.gz')\u001b[0m\n",
      "\u001b[0m  File \u001b[0;32m~\\AppData\\Local\\anaconda3\\envs\\env_mlf\\Lib\\site-packages\\pandas\\io\\parsers\\readers.py:1026\u001b[0m in \u001b[0;35mread_csv\u001b[0m\n    return _read(filepath_or_buffer, kwds)\u001b[0m\n",
      "\u001b[0m  File \u001b[0;32m~\\AppData\\Local\\anaconda3\\envs\\env_mlf\\Lib\\site-packages\\pandas\\io\\parsers\\readers.py:620\u001b[0m in \u001b[0;35m_read\u001b[0m\n    parser = TextFileReader(filepath_or_buffer, **kwds)\u001b[0m\n",
      "\u001b[0m  File \u001b[0;32m~\\AppData\\Local\\anaconda3\\envs\\env_mlf\\Lib\\site-packages\\pandas\\io\\parsers\\readers.py:1620\u001b[0m in \u001b[0;35m__init__\u001b[0m\n    self._engine = self._make_engine(f, self.engine)\u001b[0m\n",
      "\u001b[0m  File \u001b[0;32m~\\AppData\\Local\\anaconda3\\envs\\env_mlf\\Lib\\site-packages\\pandas\\io\\parsers\\readers.py:1880\u001b[0m in \u001b[0;35m_make_engine\u001b[0m\n    self.handles = get_handle(\u001b[0m\n",
      "\u001b[0m  File \u001b[0;32m~\\AppData\\Local\\anaconda3\\envs\\env_mlf\\Lib\\site-packages\\pandas\\io\\common.py:765\u001b[0m in \u001b[0;35mget_handle\u001b[0m\n    handle = gzip.GzipFile(  # type: ignore[assignment]\u001b[0m\n",
      "\u001b[1;36m  File \u001b[1;32m~\\AppData\\Local\\anaconda3\\envs\\env_mlf\\Lib\\gzip.py:174\u001b[1;36m in \u001b[1;35m__init__\u001b[1;36m\n\u001b[1;33m    fileobj = self.myfileobj = builtins.open(filename, mode or 'rb')\u001b[1;36m\n",
      "\u001b[1;31mFileNotFoundError\u001b[0m\u001b[1;31m:\u001b[0m [Errno 2] No such file or directory: './datasets/mod_03_topic_05_weather_data.csv.gz'\n"
     ]
    }
   ],
   "source": [
    "# %%\n",
    "import pandas as pd\n",
    "\n",
    "data = pd.read_csv('./datasets/mod_03_topic_05_weather_data.csv.gz')\n"
   ]
  },
  {
   "cell_type": "code",
   "execution_count": null,
   "id": "c8e62fa5-39c1-46ed-bff1-5fcc3549f7d3",
   "metadata": {},
   "outputs": [],
   "source": [
    "data.info()\n",
    "data.head()\n",
    "data.shape"
   ]
  },
  {
   "cell_type": "code",
   "execution_count": null,
   "id": "1a7a5369-530a-40c6-aab9-6c699e18d69c",
   "metadata": {},
   "outputs": [],
   "source": [
    "data.isna().mean().sort_values(ascending=False)\n"
   ]
  },
  {
   "cell_type": "code",
   "execution_count": null,
   "id": "23397582-e3ee-4808-8276-749260200611",
   "metadata": {},
   "outputs": [],
   "source": [
    "data = data[data.columns[data.isna().mean().lt(0.35)]]\n",
    "\n",
    "#Remove rows from the dataset where 'RainTomorrow' column has NaN values\n",
    "data = data.dropna(subset=['RainTomorrow'])"
   ]
  },
  {
   "cell_type": "code",
   "execution_count": null,
   "id": "5cfa52a5-ec09-446b-a6e0-e80c9c278729",
   "metadata": {},
   "outputs": [],
   "source": [
    "import numpy as np\n",
    "\n",
    "data_num = data.select_dtypes(include=np.number)\n",
    "data_cat = data.select_dtypes(include='object')\n"
   ]
  },
  {
   "cell_type": "code",
   "execution_count": null,
   "id": "4b49dd40-4917-45a7-8179-09551023b331",
   "metadata": {},
   "outputs": [],
   "source": [
    "data_cat['Date'] = pd.to_datetime(data_cat['Date'])\n",
    "data_cat[['Year', 'Month']] = data_cat['Date'].apply(\n",
    "    lambda x: pd.Series([x.year, x.month]))\n",
    "\n",
    "data_num['Year'] = data_cat['Year']\n",
    "data_cat['Month'] = data_cat['Month'].astype(str)\n",
    "\n",
    "data_cat.drop('Date', axis=1, inplace=True)\n",
    "data_cat.drop('Year', axis=1, inplace=True)"
   ]
  },
  {
   "cell_type": "code",
   "execution_count": null,
   "id": "9b69672c-c62f-44e2-b848-64f8ec3d9da6",
   "metadata": {},
   "outputs": [],
   "source": [
    "max_year = data_num['Year'].max()\n",
    "\n",
    "train_index = data_num['Year'] < max_year\n",
    "test_index = data_num['Year'] == max_year\n",
    "\n",
    "X_train_num = data_num[train_index].drop(columns='Year')\n",
    "X_train_cat = data_cat[train_index]\n",
    "y_train = data['RainTomorrow'][train_index]\n",
    "\n",
    "X_test_num = data_num[test_index].drop(columns='Year')\n",
    "X_test_cat = data_cat[test_index]\n",
    "y_test = data['RainTomorrow'][test_index]"
   ]
  },
  {
   "cell_type": "code",
   "execution_count": null,
   "id": "16c27fa6-98c6-4991-920d-82d3b0ee8112",
   "metadata": {},
   "outputs": [],
   "source": [
    "from sklearn.impute import SimpleImputer\n",
    "\n",
    "num_imputer = SimpleImputer().set_output(transform='pandas')\n",
    "\n",
    "X_train_num = num_imputer.fit_transform(X_train_num)\n",
    "X_test_num = num_imputer.transform(X_test_num)\n",
    "\n",
    "pd.concat([X_train_num, X_test_num]).isna().sum()"
   ]
  },
  {
   "cell_type": "code",
   "execution_count": null,
   "id": "21f1c270-26e9-4058-bcbd-290634e623c8",
   "metadata": {},
   "outputs": [],
   "source": [
    "cat_imputer = SimpleImputer(strategy='most_frequent').set_output(transform='pandas')\n",
    "\n",
    "X_train_cat = cat_imputer.fit_transform(X_train_cat)\n",
    "X_test_cat = cat_imputer.transform(X_test_cat)\n",
    "\n",
    "pd.concat([X_train_cat, X_test_cat]).isna().sum()"
   ]
  },
  {
   "cell_type": "code",
   "execution_count": null,
   "id": "7bc2f0ca-d90a-4be9-969e-6b10e242edf5",
   "metadata": {},
   "outputs": [],
   "source": [
    "from sklearn.preprocessing import StandardScaler\n",
    "\n",
    "scaler = StandardScaler().set_output(transform='pandas')\n",
    "\n",
    "X_train_num = scaler.fit_transform(X_train_num)\n",
    "X_test_num = scaler.transform(X_test_num)"
   ]
  },
  {
   "cell_type": "code",
   "execution_count": null,
   "id": "ab26591d-c108-4ec1-b400-7683752501ac",
   "metadata": {},
   "outputs": [],
   "source": [
    "from sklearn.preprocessing import OneHotEncoder\n",
    "\n",
    "encoder = OneHotEncoder(\n",
    "    drop='if_binary', \n",
    "    sparse_output=False).set_output(transform='pandas')\n",
    "\n",
    "X_train_cat = encoder.fit_transform(X_train_cat)\n",
    "X_test_cat = encoder.transform(X_test_cat)"
   ]
  },
  {
   "cell_type": "code",
   "execution_count": null,
   "id": "2f08cca0-2bb0-4e45-aca1-0cdd06a186b8",
   "metadata": {},
   "outputs": [],
   "source": [
    "X_train = pd.concat([X_train_num, X_train_cat], axis=1)\n",
    "X_test = pd.concat([X_test_num, X_test_cat], axis=1)"
   ]
  },
  {
   "cell_type": "code",
   "execution_count": null,
   "id": "d4354036-eaa5-4638-8aad-efb2d9776cef",
   "metadata": {},
   "outputs": [],
   "source": [
    "from sklearn.linear_model import LogisticRegression\n",
    "\n",
    "clf = LogisticRegression(\n",
    "    class_weight='balanced',\n",
    "    solver='liblinear',\n",
    "    random_state=42)\n",
    "\n",
    "clf.fit(X_train, y_train)\n",
    "\n",
    "y_pred = clf.predict(X_test)"
   ]
  },
  {
   "cell_type": "code",
   "execution_count": null,
   "id": "7ecc4ca5-d5d7-43b2-99e0-0cff93311d7c",
   "metadata": {},
   "outputs": [],
   "source": [
    "from sklearn.metrics import classification_report\n",
    "\n",
    "report_dict = classification_report(y_test, y_pred, output_dict=True)\n",
    "\n",
    "# Dictionary to DataFrame\n",
    "report_df = pd.DataFrame(report_dict).transpose()\n",
    "\n",
    "print(report_df)"
   ]
  }
 ],
 "metadata": {
  "kernelspec": {
   "display_name": "Python 3 (Spyder)",
   "language": "python3",
   "name": "python3"
  },
  "language_info": {
   "codemirror_mode": {
    "name": "ipython",
    "version": 3
   },
   "file_extension": ".py",
   "mimetype": "text/x-python",
   "name": "python",
   "nbconvert_exporter": "python",
   "pygments_lexer": "ipython3",
   "version": "3.11.9"
  }
 },
 "nbformat": 4,
 "nbformat_minor": 5
}
